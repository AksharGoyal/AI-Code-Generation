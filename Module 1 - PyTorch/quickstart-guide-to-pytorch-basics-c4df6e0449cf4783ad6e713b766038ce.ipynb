{
 "cells": [
  {
   "cell_type": "markdown",
   "id": "47abaca3",
   "metadata": {},
   "source": [
    "# LLM Bootcamp\n",
    "\n",
    "Before proceeding with the further modules, we expect you to atleast have basic knowledge of PyTorch. This notebook is a **Quickstart guide for PyTorch Basics**\n",
    "\n",
    "If you are comfortable with PyTorch you can skip this notebook. "
   ]
  },
  {
   "cell_type": "markdown",
   "id": "31d2377f",
   "metadata": {},
   "source": [
    "## Get Started with PyTorch\n",
    "\n",
    "An open source machine learning framework that accelerates the path from research prototyping to production deployment.\n",
    "\n",
    "```py\n",
    "pip install torch\n",
    "```"
   ]
  },
  {
   "cell_type": "markdown",
   "id": "d43e5cd2",
   "metadata": {},
   "source": [
    "### Table of Contents:\n",
    "\n",
    "1. [Basics](#Basics)\n",
    "2. [Tensor Operations](#Basic_Operations)\n",
    "3. [Extra PyTorch operations based on Tensor Shape](#Extra_PyTorch_operations_based_on_Tensor_Shape)\n",
    "4. [Ouickstart- Build A Neural Network](#Quickstart)"
   ]
  },
  {
   "cell_type": "code",
   "execution_count": 1,
   "id": "9aef364e",
   "metadata": {},
   "outputs": [],
   "source": [
    "import torch\n",
    "import numpy as np"
   ]
  },
  {
   "cell_type": "markdown",
   "id": "8768fe90",
   "metadata": {},
   "source": [
    "## Basics\n",
    "\n",
    "Just like Tensorflow, we shall continue playing with Tensors in PyTorch as well. "
   ]
  },
  {
   "cell_type": "markdown",
   "id": "aaff9184",
   "metadata": {},
   "source": [
    "### Create Tensor From Data(List)"
   ]
  },
  {
   "cell_type": "code",
   "execution_count": 2,
   "id": "0e93d728",
   "metadata": {},
   "outputs": [],
   "source": [
    "data = [[1, 2],[3, 4]]\n",
    "tensors = torch.tensor(data)"
   ]
  },
  {
   "cell_type": "code",
   "execution_count": 3,
   "id": "8cebc8b9",
   "metadata": {},
   "outputs": [
    {
     "data": {
      "text/plain": [
       "tensor([[1, 2],\n",
       "        [3, 4]])"
      ]
     },
     "execution_count": 3,
     "metadata": {},
     "output_type": "execute_result"
    }
   ],
   "source": [
    "tensors"
   ]
  },
  {
   "cell_type": "markdown",
   "id": "9169b4f1",
   "metadata": {},
   "source": [
    "### Create from NumPy"
   ]
  },
  {
   "cell_type": "code",
   "execution_count": 36,
   "id": "9540e703",
   "metadata": {},
   "outputs": [],
   "source": [
    "np_array = np.arange(10)\n",
    "tensor_np = torch.from_numpy(np_array)"
   ]
  },
  {
   "cell_type": "code",
   "execution_count": 37,
   "id": "470b3cab",
   "metadata": {},
   "outputs": [
    {
     "data": {
      "text/plain": [
       "tensor([0, 1, 2, 3, 4, 5, 6, 7, 8, 9])"
      ]
     },
     "execution_count": 37,
     "metadata": {},
     "output_type": "execute_result"
    }
   ],
   "source": [
    "tensor_np"
   ]
  },
  {
   "cell_type": "markdown",
   "id": "e78a0930",
   "metadata": {},
   "source": [
    "### Shape, ndim and dtype"
   ]
  },
  {
   "cell_type": "markdown",
   "id": "de7179fd",
   "metadata": {},
   "source": [
    "This is same as we saw in Numpy Tutorial - Day 1"
   ]
  },
  {
   "cell_type": "code",
   "execution_count": 38,
   "id": "5a233a5b",
   "metadata": {},
   "outputs": [
    {
     "data": {
      "text/plain": [
       "torch.Size([10])"
      ]
     },
     "execution_count": 38,
     "metadata": {},
     "output_type": "execute_result"
    }
   ],
   "source": [
    "tensor_np.shape"
   ]
  },
  {
   "cell_type": "code",
   "execution_count": 39,
   "id": "87deaa30",
   "metadata": {},
   "outputs": [
    {
     "data": {
      "text/plain": [
       "1"
      ]
     },
     "execution_count": 39,
     "metadata": {},
     "output_type": "execute_result"
    }
   ],
   "source": [
    "tensor_np.ndim"
   ]
  },
  {
   "cell_type": "code",
   "execution_count": 40,
   "id": "dbd6e97e",
   "metadata": {},
   "outputs": [
    {
     "data": {
      "text/plain": [
       "torch.int64"
      ]
     },
     "execution_count": 40,
     "metadata": {},
     "output_type": "execute_result"
    }
   ],
   "source": [
    "tensor_np.dtype"
   ]
  },
  {
   "cell_type": "markdown",
   "id": "d61276ce",
   "metadata": {},
   "source": [
    "## Tensor_Operations"
   ]
  },
  {
   "cell_type": "code",
   "execution_count": 4,
   "id": "4f1ec9cd",
   "metadata": {},
   "outputs": [
    {
     "data": {
      "text/plain": [
       "tensor([5, 7, 9])"
      ]
     },
     "execution_count": 4,
     "metadata": {},
     "output_type": "execute_result"
    }
   ],
   "source": [
    "ten1 = torch.tensor([1,2,3])\n",
    "ten2 = torch.tensor([4,5,6])\n",
    "ten1+ten2"
   ]
  },
  {
   "cell_type": "markdown",
   "id": "c8328ba7",
   "metadata": {},
   "source": [
    "You can either use `+` or `torch.add` to perform Tensor Additions"
   ]
  },
  {
   "cell_type": "code",
   "execution_count": 5,
   "id": "fce4d567",
   "metadata": {},
   "outputs": [
    {
     "data": {
      "text/plain": [
       "tensor([5, 7, 9])"
      ]
     },
     "execution_count": 5,
     "metadata": {},
     "output_type": "execute_result"
    }
   ],
   "source": [
    "torch.add(ten1,ten2)"
   ]
  },
  {
   "cell_type": "code",
   "execution_count": 6,
   "id": "29f0aab2",
   "metadata": {},
   "outputs": [
    {
     "data": {
      "text/plain": [
       "tensor([3, 3, 3])"
      ]
     },
     "execution_count": 6,
     "metadata": {},
     "output_type": "execute_result"
    }
   ],
   "source": [
    "torch.sub(ten2,ten1)"
   ]
  },
  {
   "cell_type": "code",
   "execution_count": 7,
   "id": "db0fd086",
   "metadata": {},
   "outputs": [
    {
     "data": {
      "text/plain": [
       "tensor([3, 3, 3])"
      ]
     },
     "execution_count": 7,
     "metadata": {},
     "output_type": "execute_result"
    }
   ],
   "source": [
    "torch.subtract(ten2,ten1)"
   ]
  },
  {
   "cell_type": "markdown",
   "id": "e53776ad",
   "metadata": {},
   "source": [
    "You can either use `-` or `torch.sub` to perform Tensor Additions"
   ]
  },
  {
   "cell_type": "code",
   "execution_count": 22,
   "id": "215883ba",
   "metadata": {},
   "outputs": [
    {
     "data": {
      "text/plain": [
       "tensor([10, 20, 30])"
      ]
     },
     "execution_count": 22,
     "metadata": {},
     "output_type": "execute_result"
    }
   ],
   "source": [
    "ten1*10"
   ]
  },
  {
   "cell_type": "markdown",
   "id": "849d9cde",
   "metadata": {},
   "source": [
    "### very important operation in Deep Learning- Matrix Multiplication"
   ]
  },
  {
   "cell_type": "markdown",
   "id": "4814cf22",
   "metadata": {},
   "source": [
    "***Rules of Matrix Multiplication:***\n",
    "- (3,2) * (3,2) = Error\n",
    "- (4,3) * (3,2) = (4,2)\n",
    "- (2,2) * (2,5) = (2,5)"
   ]
  },
  {
   "cell_type": "code",
   "execution_count": 10,
   "id": "f54802e3",
   "metadata": {},
   "outputs": [
    {
     "data": {
      "text/plain": [
       "tensor(32)"
      ]
     },
     "execution_count": 10,
     "metadata": {},
     "output_type": "execute_result"
    }
   ],
   "source": [
    "torch.matmul(ten1,ten2)"
   ]
  },
  {
   "cell_type": "code",
   "execution_count": 26,
   "id": "d9a4e0de",
   "metadata": {},
   "outputs": [],
   "source": [
    "matrix4_3 = torch.tensor([[1,2,3],\n",
    "                        [4,5,6],\n",
    "                        [7,8,9],\n",
    "                        [10,11,12]])"
   ]
  },
  {
   "cell_type": "code",
   "execution_count": 27,
   "id": "cb1a1ec3",
   "metadata": {},
   "outputs": [
    {
     "data": {
      "text/plain": [
       "torch.Size([4, 3])"
      ]
     },
     "execution_count": 27,
     "metadata": {},
     "output_type": "execute_result"
    }
   ],
   "source": [
    "matrix4_3.shape"
   ]
  },
  {
   "cell_type": "code",
   "execution_count": 28,
   "id": "218e3d59",
   "metadata": {},
   "outputs": [],
   "source": [
    "matrix3_2 = torch.tensor([[1,2],\n",
    "                        [3,4],\n",
    "                        [5,6]])"
   ]
  },
  {
   "cell_type": "code",
   "execution_count": 29,
   "id": "a77c8860",
   "metadata": {},
   "outputs": [
    {
     "data": {
      "text/plain": [
       "torch.Size([3, 2])"
      ]
     },
     "execution_count": 29,
     "metadata": {},
     "output_type": "execute_result"
    }
   ],
   "source": [
    "matrix3_2.shape"
   ]
  },
  {
   "cell_type": "code",
   "execution_count": 30,
   "id": "cac5f2d4",
   "metadata": {},
   "outputs": [],
   "source": [
    "result = torch.matmul(matrix4_3,matrix3_2) #=> will result in (4,2)"
   ]
  },
  {
   "cell_type": "code",
   "execution_count": 31,
   "id": "fc0a77a5",
   "metadata": {},
   "outputs": [
    {
     "data": {
      "text/plain": [
       "tensor([[ 22,  28],\n",
       "        [ 49,  64],\n",
       "        [ 76, 100],\n",
       "        [103, 136]])"
      ]
     },
     "execution_count": 31,
     "metadata": {},
     "output_type": "execute_result"
    }
   ],
   "source": [
    "result"
   ]
  },
  {
   "cell_type": "code",
   "execution_count": 32,
   "id": "8bea8a62",
   "metadata": {},
   "outputs": [
    {
     "data": {
      "text/plain": [
       "torch.Size([4, 2])"
      ]
     },
     "execution_count": 32,
     "metadata": {},
     "output_type": "execute_result"
    }
   ],
   "source": [
    "result.shape"
   ]
  },
  {
   "cell_type": "markdown",
   "id": "a0eb61c3",
   "metadata": {},
   "source": [
    "You can also use `torch.mm()` which is a short for `torch.matmul()`"
   ]
  },
  {
   "cell_type": "code",
   "execution_count": 41,
   "id": "52bf9c4d",
   "metadata": {},
   "outputs": [
    {
     "data": {
      "text/plain": [
       "tensor([[ 22,  28],\n",
       "        [ 49,  64],\n",
       "        [ 76, 100],\n",
       "        [103, 136]])"
      ]
     },
     "execution_count": 41,
     "metadata": {},
     "output_type": "execute_result"
    }
   ],
   "source": [
    "torch.mm(matrix4_3,matrix3_2)"
   ]
  },
  {
   "cell_type": "code",
   "execution_count": 42,
   "id": "f0b13279",
   "metadata": {},
   "outputs": [
    {
     "data": {
      "text/plain": [
       "tensor([[ 1,  2,  3],\n",
       "        [ 4,  5,  6],\n",
       "        [ 7,  8,  9],\n",
       "        [10, 11, 12]])"
      ]
     },
     "execution_count": 42,
     "metadata": {},
     "output_type": "execute_result"
    }
   ],
   "source": [
    "#transpose of tensor\n",
    "matrix4_3"
   ]
  },
  {
   "cell_type": "code",
   "execution_count": 43,
   "id": "d87f4e45",
   "metadata": {},
   "outputs": [
    {
     "data": {
      "text/plain": [
       "tensor([[ 1,  4,  7, 10],\n",
       "        [ 2,  5,  8, 11],\n",
       "        [ 3,  6,  9, 12]])"
      ]
     },
     "execution_count": 43,
     "metadata": {},
     "output_type": "execute_result"
    }
   ],
   "source": [
    "matrix4_3.T"
   ]
  },
  {
   "cell_type": "code",
   "execution_count": 46,
   "id": "8d38fa02",
   "metadata": {},
   "outputs": [
    {
     "data": {
      "text/plain": [
       "tensor([[ 1,  4,  7, 10],\n",
       "        [ 2,  5,  8, 11],\n",
       "        [ 3,  6,  9, 12]])"
      ]
     },
     "execution_count": 46,
     "metadata": {},
     "output_type": "execute_result"
    }
   ],
   "source": [
    "torch.t(matrix4_3)"
   ]
  },
  {
   "cell_type": "markdown",
   "id": "05caa5fa",
   "metadata": {},
   "source": [
    "## Extra_PyTorch_operations_based_on_Tensor_Shape\n",
    "- Zeros\n",
    "- Ones\n",
    "- Random\n",
    "- Full"
   ]
  },
  {
   "cell_type": "code",
   "execution_count": 12,
   "id": "a65d0809",
   "metadata": {},
   "outputs": [
    {
     "data": {
      "text/plain": [
       "tensor([[0., 0., 0.],\n",
       "        [0., 0., 0.],\n",
       "        [0., 0., 0.]])"
      ]
     },
     "execution_count": 12,
     "metadata": {},
     "output_type": "execute_result"
    }
   ],
   "source": [
    "tensorZeroes = torch.zeros((3,3))\n",
    "tensorZeroes"
   ]
  },
  {
   "cell_type": "code",
   "execution_count": 13,
   "id": "6edfdef7",
   "metadata": {},
   "outputs": [
    {
     "data": {
      "text/plain": [
       "tensor([[1., 1., 1.],\n",
       "        [1., 1., 1.],\n",
       "        [1., 1., 1.]])"
      ]
     },
     "execution_count": 13,
     "metadata": {},
     "output_type": "execute_result"
    }
   ],
   "source": [
    "tensorOnes = torch.ones((3,3))\n",
    "tensorOnes"
   ]
  },
  {
   "cell_type": "code",
   "execution_count": 17,
   "id": "a8c85dbf",
   "metadata": {},
   "outputs": [
    {
     "data": {
      "text/plain": [
       "tensor([[-0.0096,  0.3583, -0.3557],\n",
       "        [-0.6203,  0.4666,  1.5985],\n",
       "        [ 0.0276,  0.9901, -0.3083]])"
      ]
     },
     "execution_count": 17,
     "metadata": {},
     "output_type": "execute_result"
    }
   ],
   "source": [
    "tensorRandomN = torch.randn((3,3))  #includes negative tensors\n",
    "tensorRandomN"
   ]
  },
  {
   "cell_type": "code",
   "execution_count": 19,
   "id": "0b8af346",
   "metadata": {
    "scrolled": true
   },
   "outputs": [
    {
     "data": {
      "text/plain": [
       "tensor([[0.6250, 0.4580, 0.8169],\n",
       "        [0.1864, 0.3173, 0.2519],\n",
       "        [0.7456, 0.7896, 0.2160]])"
      ]
     },
     "execution_count": 19,
     "metadata": {},
     "output_type": "execute_result"
    }
   ],
   "source": [
    "tensorRandom = torch.rand((3,3))  #includes only positive tensors\n",
    "tensorRandom"
   ]
  },
  {
   "cell_type": "code",
   "execution_count": 20,
   "id": "4545985d",
   "metadata": {},
   "outputs": [
    {
     "data": {
      "text/plain": [
       "tensor([[5, 5, 5],\n",
       "        [5, 5, 5],\n",
       "        [5, 5, 5]])"
      ]
     },
     "execution_count": 20,
     "metadata": {},
     "output_type": "execute_result"
    }
   ],
   "source": [
    "customFill = torch.full((3,3),5)\n",
    "customFill"
   ]
  },
  {
   "cell_type": "code",
   "execution_count": 21,
   "id": "2023b6be",
   "metadata": {},
   "outputs": [
    {
     "data": {
      "text/plain": [
       "tensor([[0.0100, 0.0100, 0.0100],\n",
       "        [0.0100, 0.0100, 0.0100],\n",
       "        [0.0100, 0.0100, 0.0100]])"
      ]
     },
     "execution_count": 21,
     "metadata": {},
     "output_type": "execute_result"
    }
   ],
   "source": [
    "initialFill = torch.full((3,3),0.01)\n",
    "initialFill"
   ]
  },
  {
   "cell_type": "markdown",
   "id": "31a4ca8c",
   "metadata": {},
   "source": [
    "## Quickstart\n",
    "\n",
    "Install Torchvision, The torchvision package consists of popular datasets, model architectures, and common image transformations for computer vision.\n",
    "\n",
    "```py\n",
    "pip install torchvision --no-deps\n",
    "```"
   ]
  },
  {
   "cell_type": "code",
   "execution_count": 49,
   "id": "9bdee1c7",
   "metadata": {},
   "outputs": [],
   "source": [
    "from torch.utils.data import DataLoader\n",
    "from torchvision import datasets\n",
    "from torchvision.transforms import ToTensor\n",
    "from torch import nn"
   ]
  },
  {
   "cell_type": "code",
   "execution_count": 48,
   "id": "2ff1c0f7",
   "metadata": {},
   "outputs": [],
   "source": [
    "# Download training data from open datasets.\n",
    "training_data = datasets.FashionMNIST(\n",
    "    root=\"data\",\n",
    "    train=True,\n",
    "    download=True,\n",
    "    transform=ToTensor(),\n",
    ")"
   ]
  },
  {
   "cell_type": "code",
   "execution_count": 50,
   "id": "15cab2d2",
   "metadata": {},
   "outputs": [],
   "source": [
    "# Download test data from open datasets.\n",
    "test_data = datasets.FashionMNIST(\n",
    "    root=\"data\",\n",
    "    train=False,\n",
    "    download=True,\n",
    "    transform=ToTensor(),\n",
    ")"
   ]
  },
  {
   "cell_type": "code",
   "execution_count": 51,
   "id": "5542ef43",
   "metadata": {},
   "outputs": [
    {
     "data": {
      "text/plain": [
       "torchvision.datasets.mnist.FashionMNIST"
      ]
     },
     "execution_count": 51,
     "metadata": {},
     "output_type": "execute_result"
    }
   ],
   "source": [
    "type(training_data)"
   ]
  },
  {
   "cell_type": "markdown",
   "id": "4fca59d2",
   "metadata": {},
   "source": [
    "`Dataloader` wraps an iterable over our dataset, and supports automatic batching, sampling, shuffling and multiprocess data loading. Here we define a batch size of 64, i.e. each element in the dataloader iterable will return a batch of 64 features and labels."
   ]
  },
  {
   "cell_type": "code",
   "execution_count": 78,
   "id": "0ac95168",
   "metadata": {},
   "outputs": [
    {
     "data": {
      "image/png": "[encoded data removed]",
      "text/plain": [
       "<Figure size 864x720 with 9 Axes>"
      ]
     },
     "metadata": {
      "needs_background": "light"
     },
     "output_type": "display_data"
    }
   ],
   "source": [
    "import matplotlib.pyplot as plt\n",
    "\n",
    "plt.figure(figsize=(12,10))\n",
    "for i in range(9):\n",
    "    plt.subplot(3,3,i+1)\n",
    "    sample_image,sample_label = training_data[i]\n",
    "    plt.imshow(sample_image[0])\n",
    "    plt.title(sample_label)"
   ]
  },
  {
   "cell_type": "code",
   "execution_count": 55,
   "id": "ac2182b6",
   "metadata": {},
   "outputs": [
    {
     "name": "stdout",
     "output_type": "stream",
     "text": [
      "Shape of X: torch.Size([64, 1, 28, 28])\n",
      "Shape of y: torch.Size([64])\n"
     ]
    }
   ],
   "source": [
    "batch_size = 64\n",
    "\n",
    "training = DataLoader(training_data,batch_size=batch_size)\n",
    "testing = DataLoader(test_data, batch_size=batch_size)\n",
    "\n",
    "for X, y in testing:\n",
    "    print(f\"Shape of X: {X.shape}\")\n",
    "    print(f\"Shape of y: {y.shape}\")\n",
    "    break"
   ]
  },
  {
   "cell_type": "code",
   "execution_count": 58,
   "id": "fc635cfd",
   "metadata": {},
   "outputs": [
    {
     "name": "stdout",
     "output_type": "stream",
     "text": [
      "tensor(1.)\n",
      "tensor(0.)\n"
     ]
    }
   ],
   "source": [
    "for X,y in training:\n",
    "    print(torch.max(X))\n",
    "    print(torch.min(X))\n",
    "    break"
   ]
  },
  {
   "cell_type": "markdown",
   "id": "79c80ebd",
   "metadata": {},
   "source": [
    "We need not to scale as `DataLoader` will take care of it"
   ]
  },
  {
   "cell_type": "markdown",
   "id": "e1a1de21",
   "metadata": {},
   "source": [
    "### Model building\n",
    "\n",
    "Define a neural network class by subclassing ``nn.Module``, and initialize the neural network layers in ``__init__``. Every ``nn.Module`` subclass implements the operations on input data in the forward method."
   ]
  },
  {
   "cell_type": "code",
   "execution_count": 59,
   "id": "04526108",
   "metadata": {},
   "outputs": [],
   "source": [
    "class NeuralNetwork(nn.Module):\n",
    "    def __init__(self):\n",
    "        super(NeuralNetwork,self).__init__()\n",
    "        self.flatten = nn.Flatten()\n",
    "        self.build_model = nn.Sequential(\n",
    "            nn.Linear(28*28,512), #28*28 is input shape\n",
    "            nn.ReLU(),\n",
    "            nn.Linear(512,512), #hidden layer\n",
    "            nn.ReLU(),\n",
    "            nn.Linear(512,10) #output layer\n",
    "        )\n",
    "    def forward(self,x):\n",
    "        x = self.flatten(x)\n",
    "        dnn = self.build_model(x)\n",
    "        return dnn "
   ]
  },
  {
   "cell_type": "code",
   "execution_count": 60,
   "id": "9f231265",
   "metadata": {},
   "outputs": [],
   "source": [
    "model = NeuralNetwork()"
   ]
  },
  {
   "cell_type": "code",
   "execution_count": 62,
   "id": "a4d14188",
   "metadata": {},
   "outputs": [],
   "source": [
    "# compile model - Loss Function and Optimizer\n",
    "loss_fn = nn.CrossEntropyLoss()\n",
    "optimizer = torch.optim.Adam(model.parameters(), lr=1e-5)"
   ]
  },
  {
   "cell_type": "code",
   "execution_count": 68,
   "id": "c6d98186",
   "metadata": {},
   "outputs": [],
   "source": [
    "def train(dataloader, model, loss_fn, optimizer):\n",
    "    size = len(dataloader.dataset)\n",
    "    model.train()\n",
    "    for batch, (X, y) in enumerate(dataloader):\n",
    "        # Compute prediction error\n",
    "        pred = model(X)\n",
    "        loss = loss_fn(pred, y)\n",
    "\n",
    "        # Backpropagation\n",
    "        optimizer.zero_grad()\n",
    "        loss.backward()\n",
    "        optimizer.step()\n",
    "\n",
    "        if batch % 100 == 0:\n",
    "            loss, current = loss.item(), batch * len(X)\n",
    "            print(f\"loss: {loss:>7f}  [{current:>5d}/{size:>5d}]\")"
   ]
  },
  {
   "cell_type": "code",
   "execution_count": 69,
   "id": "903c35c7",
   "metadata": {},
   "outputs": [],
   "source": [
    "def test(dataloader, model, loss_fn):\n",
    "    size = len(dataloader.dataset)\n",
    "    num_batches = len(dataloader)\n",
    "    model.eval()\n",
    "    test_loss, correct = 0, 0\n",
    "    with torch.no_grad():\n",
    "        for X, y in dataloader:\n",
    "            pred = model(X)\n",
    "            test_loss += loss_fn(pred, y).item()\n",
    "            correct += (pred.argmax(1) == y).type(torch.float).sum().item()\n",
    "    test_loss /= num_batches\n",
    "    correct /= size\n",
    "    print(f\"Test Error: \\n Accuracy: {(100*correct):>0.1f}%, Avg loss: {test_loss:>8f} \\n\")"
   ]
  },
  {
   "cell_type": "code",
   "execution_count": 70,
   "id": "1f602c89",
   "metadata": {},
   "outputs": [
    {
     "name": "stdout",
     "output_type": "stream",
     "text": [
      "Epochs 1\n",
      "loss: 2.310659  [    0/60000]\n",
      "loss: 2.192680  [ 6400/60000]\n",
      "loss: 1.950534  [12800/60000]\n",
      "loss: 1.762310  [19200/60000]\n",
      "loss: 1.438842  [25600/60000]\n",
      "loss: 1.281911  [32000/60000]\n",
      "loss: 1.178925  [38400/60000]\n",
      "loss: 1.043956  [44800/60000]\n",
      "loss: 1.003614  [51200/60000]\n",
      "loss: 0.917325  [57600/60000]\n",
      "Test Error: \n",
      " Accuracy: 68.5%, Avg loss: 0.908657 \n",
      "\n",
      "Epochs 2\n",
      "loss: 0.937900  [    0/60000]\n",
      "loss: 0.964800  [ 6400/60000]\n",
      "loss: 0.715048  [12800/60000]\n",
      "loss: 0.905788  [19200/60000]\n",
      "loss: 0.734225  [25600/60000]\n",
      "loss: 0.740123  [32000/60000]\n",
      "loss: 0.778220  [38400/60000]\n",
      "loss: 0.753288  [44800/60000]\n",
      "loss: 0.730043  [51200/60000]\n",
      "loss: 0.718717  [57600/60000]\n",
      "Test Error: \n",
      " Accuracy: 75.7%, Avg loss: 0.699567 \n",
      "\n",
      "Epochs 3\n",
      "loss: 0.669396  [    0/60000]\n",
      "loss: 0.761377  [ 6400/60000]\n",
      "loss: 0.522985  [12800/60000]\n",
      "loss: 0.769466  [19200/60000]\n",
      "loss: 0.625706  [25600/60000]\n",
      "loss: 0.626813  [32000/60000]\n",
      "loss: 0.653963  [38400/60000]\n",
      "loss: 0.692355  [44800/60000]\n",
      "loss: 0.656009  [51200/60000]\n",
      "loss: 0.631312  [57600/60000]\n",
      "Test Error: \n",
      " Accuracy: 78.3%, Avg loss: 0.618727 \n",
      "\n",
      "Epochs 4\n",
      "loss: 0.571280  [    0/60000]\n",
      "loss: 0.663340  [ 6400/60000]\n",
      "loss: 0.446253  [12800/60000]\n",
      "loss: 0.701597  [19200/60000]\n",
      "loss: 0.574973  [25600/60000]\n",
      "loss: 0.577951  [32000/60000]\n",
      "loss: 0.584824  [38400/60000]\n",
      "loss: 0.669705  [44800/60000]\n",
      "loss: 0.631366  [51200/60000]\n",
      "loss: 0.577625  [57600/60000]\n",
      "Test Error: \n",
      " Accuracy: 80.0%, Avg loss: 0.573424 \n",
      "\n",
      "Epochs 5\n",
      "loss: 0.515490  [    0/60000]\n",
      "loss: 0.605770  [ 6400/60000]\n",
      "loss: 0.404635  [12800/60000]\n",
      "loss: 0.657200  [19200/60000]\n",
      "loss: 0.541627  [25600/60000]\n",
      "loss: 0.548087  [32000/60000]\n",
      "loss: 0.539836  [38400/60000]\n",
      "loss: 0.659454  [44800/60000]\n",
      "loss: 0.622325  [51200/60000]\n",
      "loss: 0.540255  [57600/60000]\n",
      "Test Error: \n",
      " Accuracy: 80.9%, Avg loss: 0.543835 \n",
      "\n",
      "Done!\n"
     ]
    }
   ],
   "source": [
    "for epoch in range(5):\n",
    "    print(f\"Epochs {epoch+1}\")\n",
    "    train(training, model, loss_fn, optimizer)\n",
    "    test(testing, model, loss_fn)"
   ]
  },
  {
   "cell_type": "markdown",
   "id": "93de75d8",
   "metadata": {},
   "source": [
    "## Further reading:\n",
    "\n",
    "### Book: \n",
    "\n",
    "- [Deep learning with Pytorch(GitHub)](https://github.com/deep-learning-with-pytorch/dlwpt-code)\n",
    "\n",
    "### Tutorial:\n",
    "\n",
    "- [PyTorch](https://pytorch.org/tutorials/beginner/deep_learning_60min_blitz.html)\n",
    "- [Zero to Mastery Learn PyTorch for Deep Learning](https://www.learnpytorch.io/)\n",
    "\n",
    "### Reference: \n",
    "\n",
    "- [Official documentation](https://pytorch.org/tutorials/beginner/basics/intro.html)"
   ]
  }
 ],
 "metadata": {
  "kernelspec": {
   "display_name": "Python 3 (ipykernel)",
   "language": "python",
   "name": "python3"
  },
  "language_info": {
   "codemirror_mode": {
    "name": "ipython",
    "version": 3
   },
   "file_extension": ".py",
   "mimetype": "text/x-python",
   "name": "python",
   "nbconvert_exporter": "python",
   "pygments_lexer": "ipython3",
   "version": "3.10.12"
  }
 },
 "nbformat": 4,
 "nbformat_minor": 5
}
